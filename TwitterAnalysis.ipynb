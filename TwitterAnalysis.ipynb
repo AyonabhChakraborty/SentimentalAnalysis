{
  "nbformat": 4,
  "nbformat_minor": 0,
  "metadata": {
    "colab": {
      "provenance": [],
      "authorship_tag": "ABX9TyPnfQDoP/uVc4H0oFF20dZQ",
      "include_colab_link": true
    },
    "kernelspec": {
      "name": "python3",
      "display_name": "Python 3"
    },
    "language_info": {
      "name": "python"
    }
  },
  "cells": [
    {
      "cell_type": "markdown",
      "metadata": {
        "id": "view-in-github",
        "colab_type": "text"
      },
      "source": [
        "<a href=\"https://colab.research.google.com/github/AyonabhChakraborty/SentimentalAnalysis/blob/main/TwitterAnalysis.ipynb\" target=\"_parent\"><img src=\"https://colab.research.google.com/assets/colab-badge.svg\" alt=\"Open In Colab\"/></a>"
      ]
    },
    {
      "cell_type": "code",
      "execution_count": null,
      "metadata": {
        "id": "zSNjPrAT_qa9"
      },
      "outputs": [],
      "source": [
        "#Description : This is a sentiment analysis program\n"
      ]
    },
    {
      "cell_type": "code",
      "source": [
        "#Importing libraries\n",
        "import tweepy\n",
        "from textblob import TextBlob\n",
        "from wordcloud import WordCloud\n",
        "import pandas as pd\n",
        "import numpy as np\n",
        "import re\n",
        "import matplotlib.pyplot as plt\n",
        "plt.style.use('fivethirtyeight')\n"
      ],
      "metadata": {
        "id": "dqCB5HuG_8Rv"
      },
      "execution_count": 1,
      "outputs": []
    },
    {
      "cell_type": "code",
      "source": [
        "#Load the data\n",
        "from google.colab import files\n",
        "uploaded = files.upload()"
      ],
      "metadata": {
        "id": "qKZoz7104Yxo"
      },
      "execution_count": null,
      "outputs": []
    },
    {
      "cell_type": "code",
      "source": [
        "#Getting the data\n",
        "log = pd.read_csv('Login.csv')"
      ],
      "metadata": {
        "id": "8RgnLfeF4uWP"
      },
      "execution_count": null,
      "outputs": []
    },
    {
      "cell_type": "code",
      "source": [
        "#Twitter API credentials\n",
        "consumerKey = log['key'][0]\n",
        "consumerSecret = log['key'][1]\n",
        "accessToken = log['key'][2]\n",
        "accessTokenSecret = log['key'][3]\n",
        "\n"
      ],
      "metadata": {
        "id": "-C3GM2085FAw"
      },
      "execution_count": null,
      "outputs": []
    },
    {
      "cell_type": "code",
      "source": [
        "#Creating the authentication object\n",
        "authenticate = tweepy.OAuthHandler(consumerKey, consumerSecret)\n",
        "\n",
        "#Setting the access token and access token secret\n",
        "authenticate.set_access_token(accessToken)\n",
        "\n",
        "#Create the API object while passing in the auth information\n",
        "api = tweepy.API(authenticate, wait_on_rate_limit = True)"
      ],
      "metadata": {
        "id": "JjzPg00u5cRq"
      },
      "execution_count": null,
      "outputs": []
    },
    {
      "cell_type": "code",
      "source": [
        "#Extraction of Tweets from twitter user\n",
        "posts = api.user_timeline(screen_name = \"ElonMusk\", count = 1000, lang = 'en', tweet_mode=\"extended\")\n",
        "\n",
        "\n",
        "#Printing the last few tweets from the account\n",
        "print(\"Show the 5 recent tweets : \\n\")\n",
        "i=1\n",
        "for tweet in posts[0:5]:\n",
        "    print(str(i) + ')' + tweet.full_text + '\\n')\n",
        "    i = i + 1\n"
      ],
      "metadata": {
        "id": "0suAKeZz8hbk"
      },
      "execution_count": null,
      "outputs": []
    },
    {
      "cell_type": "code",
      "source": [
        "#Creation of dataframe with a column for Tweets\n",
        "df = pd.DataFrame([tweet.full_text for tweet in posts] , columns = ['Tweets'])\n",
        "\n",
        "#Show the first 5 rows of data\n",
        "df.head()\n"
      ],
      "metadata": {
        "id": "e_E4svl58iGG"
      },
      "execution_count": null,
      "outputs": []
    },
    {
      "cell_type": "code",
      "source": [
        "#Cleaning the texts\n",
        "#Function Creation\n",
        "def cleanText(text):\n",
        "  text = re.sub('@[A-Za-z0-9]+','',text ) #Removing the tags and mentions\n",
        "  text = re.sub(r'#','',text) #Removing Hashtags\n",
        "  text = re.sub(r'RT[\\s]+', '', text) #Removing the RT symbol\n",
        "  text = re.sub(r'https?://\\\\S+', '', text) #Removing any present hyperlinks\n",
        "\n",
        "\n",
        "  return text\n",
        "\n",
        "\n",
        "df['Tweets'] = df['Tweets'].apply(cleanText)\n",
        "\n",
        "\n",
        "#Show the cleaned text\n",
        "df\n"
      ],
      "metadata": {
        "id": "UTdQMUts862D"
      },
      "execution_count": null,
      "outputs": []
    },
    {
      "cell_type": "code",
      "source": [
        "#Creation of Subjectivity Function\n",
        "def getSubjectivity(text):\n",
        "  return TextBlob(text).sentiment.subjectivity\n",
        "\n",
        "def getPolarity(text):\n",
        "  return TextBlob(text).sentiment.polarity\n",
        "\n",
        "\n",
        "#Create a function to get the polarity\n",
        "df['Subjectivity'] = df['Tweets'].apply(getSubjectivity)\n",
        "df['Polarity'] = df['Tweets'].apply(getPolarity)\n",
        "\n",
        "\n",
        "df"
      ],
      "metadata": {
        "id": "Lel2OBtQ-dVF"
      },
      "execution_count": null,
      "outputs": []
    },
    {
      "cell_type": "code",
      "source": [
        "#Plotting the Word Cloud\n",
        "allWords = ''.join(twts for twts in df['Tweets'])\n",
        "wordCloud = WordCloud(width = 500, height = 300, random_state = 21, max_font_size = 119).generate(allWords)\n",
        "\n",
        "plt.imshow(wordCloud, interpolation = 'bilinear')\n",
        "plt.axis('off')\n",
        "plt.show()\n"
      ],
      "metadata": {
        "id": "MSTIZ9WQ_XCi"
      },
      "execution_count": null,
      "outputs": []
    },
    {
      "cell_type": "code",
      "source": [
        "#Creating function for positive, negative and neutral analysis\n",
        "def getAnalysis(score):\n",
        "  if score < 0:\n",
        "    return 'Negative'\n",
        "  elif score == 0:\n",
        "    return 'Neutral'\n",
        "  else :\n",
        "    return 'Positive'\n",
        "\n",
        "df['Analysis'] = df['Polarity'].apply(getAnalysis)\n",
        "\n",
        "#Display the dataframe\n",
        "df\n"
      ],
      "metadata": {
        "id": "u42dBAFEBNJ0"
      },
      "execution_count": null,
      "outputs": []
    },
    {
      "cell_type": "code",
      "source": [
        "#Printing all the positive tweets\n",
        "j=1\n",
        "sortedDF = df.sort_values(by=['Polarity'])\n",
        "for i in range(0, sortedDF.shape[0]):\n",
        "    if sortedDF['Analysis'][i] == 'Positive'):\n",
        "        print(str(j) + ')' + sortedDF['Tweets'][i])\n",
        "        print()\n",
        "        j = j+1\n",
        "\n",
        "\n",
        "        \n"
      ],
      "metadata": {
        "id": "hD_492DuByfB"
      },
      "execution_count": null,
      "outputs": []
    },
    {
      "cell_type": "code",
      "source": [
        "#print the negative tweets\n",
        "p=1\n",
        "sortedDFN = df.sort_values(by=[Polarity])\n",
        "for a in range(0, sortedDFN.shape[0]):\n",
        "    if(sortedDFN['Analysis'][a] == 'Negative'):\n",
        "      print(str(p) + ')' + sortedDFN['Tweets'][i])\n",
        "      print()\n",
        "      p=p+1               \n",
        "                                           "
      ],
      "metadata": {
        "id": "IN5tYYOgYklC"
      },
      "execution_count": null,
      "outputs": []
    },
    {
      "cell_type": "code",
      "source": [
        "#plotting the polarity and the subjectivity\n",
        "plt.figure(figsize=(8,6))\n",
        "for i in range(0,df.shape[0]):\n",
        "  plt.scatter(df['Polarity'][i], df['Subjectivity'][i], color = 'Blue')\n",
        "\n",
        "plt.title('Sentiment Analysis')\n",
        "plt.xlabel('Polarity')\n",
        "plt.ylabel('Subjectivity')\n",
        "plt.show()\n",
        "\n"
      ],
      "metadata": {
        "id": "bJuhln2kYnDo"
      },
      "execution_count": null,
      "outputs": []
    },
    {
      "cell_type": "code",
      "source": [],
      "metadata": {
        "id": "TIYoJTDieEwc"
      },
      "execution_count": null,
      "outputs": []
    }
  ]
}